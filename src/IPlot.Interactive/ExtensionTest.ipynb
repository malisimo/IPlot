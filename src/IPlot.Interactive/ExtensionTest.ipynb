{
  "cells": [
    {
      "cell_type": "code",
      "execution_count": 1,
      "metadata": {
        "dotnet_interactive": {
          "language": "pwsh"
        }
      },
      "source": [
        "\n",
        "$projectRootDir = \"C:/Users/Installer/Documents/Source/Repos/IPlot\"\n",
        "cd $projectRootDir\n",
        "\n",
        "dotnet build ./src/IPlot/IPlot.fsproj -c Release\n",
        "dotnet build ./src/IPlot.Plotly/IPlot.Plotly.csproj -c Release\n",
        "dotnet build ./src/IPlot.HighCharts/IPlot.HighCharts.csproj -c Release\n",
        "dotnet build ./src/IPlot.Interactive/IPlot.Interactive.fsproj -c Release\n",
        "\n",
        "dotnet pack ./src/IPlot/IPlot.fsproj -c Release -o pkg\n",
        "dotnet pack ./src/IPlot.Plotly/IPlot.Plotly.csproj -c Release -o pkg\n",
        "dotnet pack ./src/IPlot.HighCharts/IPlot.HighCharts.csproj -c Release -o pkg\n",
        "dotnet pack ./src/IPlot.Interactive/IPlot.Interactive.fsproj -c Release -o pkg\n",
        "\n",
        "ls \"$projectRootDir/pkg\""
      ],
      "outputs": []
    },
    {
      "cell_type": "code",
      "execution_count": 1,
      "metadata": {
        "dotnet_interactive": {
          "language": "fsharp"
        }
      },
      "source": [
        "#i \"nuget: C:/Users/Installer/Documents/Source/Repos/IPlot/pkg\"\n",
        "#r \"nuget: IPlot, 0.0.1-pre10\"\n",
        "#r \"nuget: IPlot.Interactive, 0.0.1-pre10\""
      ],
      "outputs": [
        {
          "output_type": "execute_result",
          "data": {
            "text/html": "<div><strong>Restore sources</strong><ul><li><span> C:/Users/Installer/Documents/Source/Repos/IPlot/pkg</span></li></ul></div>"
          },
          "execution_count": 1,
          "metadata": {}
        }
      ]
    },
    {
      "cell_type": "code",
      "execution_count": 1,
      "metadata": {
        "dotnet_interactive": {
          "language": "fsharp"
        }
      },
      "source": [
        "open IPlot.Plotly\n",
        "\n",
        "let t = [DateTime(2020,4,1);DateTime(2020,5,1);DateTime(2020,6,1)]\n",
        "let a = [1.2;3.1;0.4]\n",
        "\n",
        "a\n",
        "|> Chart.Bar\n",
        "|> Chart.With(Chart.Props.traces.[0].asBar.xt_ t)"
      ],
      "outputs": [
        {
          "output_type": "error",
          "ename": "Error",
          "evalue": "[object Object]",
          "traceback": []
        }
      ]
    },
    {
      "cell_type": "code",
      "execution_count": 1,
      "metadata": {
        "dotnet_interactive": {
          "language": "fsharp"
        }
      },
      "source": [
        ""
      ],
      "outputs": []
    }
  ],
  "metadata": {
    "kernelspec": {
      "display_name": ".NET (C#)",
      "language": "C#",
      "name": ".net-csharp"
    },
    "language_info": {
      "file_extension": ".cs",
      "mimetype": "text/x-csharp",
      "name": "C#",
      "pygments_lexer": "csharp",
      "version": "8.0"
    }
  },
  "nbformat": 4,
  "nbformat_minor": 4
}