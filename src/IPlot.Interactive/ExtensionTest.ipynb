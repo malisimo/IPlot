{
  "cells": [
    {
      "cell_type": "code",
      "execution_count": 1,
      "metadata": {
        "dotnet_interactive": {
          "language": "pwsh"
        }
      },
      "source": [
        "\n",
        "$projectRootDir = \"C:/Users/Installer/Documents/Source/Repos/IPlot\"\n",
        "cd $projectRootDir\n",
        "\n",
        "dotnet build ./src/IPlot/IPlot.fsproj -c Release\n",
        "dotnet build ./src/IPlot.Plotly/IPlot.Plotly.csproj -c Release\n",
        "dotnet build ./src/IPlot.HighCharts/IPlot.HighCharts.csproj -c Release\n",
        "dotnet build ./src/IPlot.Interactive/IPlot.Interactive.fsproj -c Release\n",
        "\n",
        "dotnet pack ./src/IPlot/IPlot.fsproj -c Release -o lib\n",
        "dotnet pack ./src/IPlot.Plotly/IPlot.Plotly.csproj -c Release -o lib\n",
        "dotnet pack ./src/IPlot.HighCharts/IPlot.HighCharts.csproj -c Release -o lib\n",
        "dotnet pack ./src/IPlot.Interactive/IPlot.Interactive.fsproj -c Release -o lib\n",
        "\n",
        "ls \"$projectRootDir/lib\""
      ],
      "outputs": []
    },
    {
      "cell_type": "code",
      "execution_count": 1,
      "metadata": {
        "dotnet_interactive": {
          "language": "fsharp"
        }
      },
      "source": [
        "\n",
        "// be advised, that you always should set absolute paths for local nuget packages - change this to reflect your own setup\n",
        "#i \"nuget: C:/Users/Installer/Documents/Source/Repos/IPlot/lib\"\n",
        "#r \"nuget: IPlot, 0.0.1-pre9\",\n",
        "#r \"nuget: IPlot.Interactive, 0.0.1-pre9\""
      ],
      "outputs": []
    },
    {
      "cell_type": "code",
      "execution_count": 1,
      "metadata": {
        "dotnet_interactive": {
          "language": "fsharp"
        }
      },
      "source": [
        "\n",
        "open IPlot.Plotly\n",
        "\n",
        "let xs = [ -20f..20f ]\n",
        "let ys = [ for x in xs do x ** 2f ]\n",
        "\n",
        "(xs, ys)\n",
        "||> List.zip\n",
        "|> Chart.Scatter"
      ],
      "outputs": []
    }
  ],
  "metadata": {
    "kernelspec": {
      "display_name": ".NET (C#)",
      "language": "C#",
      "name": ".net-csharp"
    },
    "language_info": {
      "file_extension": ".cs",
      "mimetype": "text/x-csharp",
      "name": "C#",
      "pygments_lexer": "csharp",
      "version": "8.0"
    }
  },
  "nbformat": 4,
  "nbformat_minor": 4
}