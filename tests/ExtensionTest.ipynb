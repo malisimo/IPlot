{
  "cells": [
    {
      "cell_type": "code",
      "execution_count": 1,
      "metadata": {
        "dotnet_interactive": {
          "language": "fsharp"
        }
      },
      "source": [
        "#i \"nuget: C:/Users/Installer/Documents/Source/Repos/IPlot/pkg\"\n",
        "#r \"nuget: IPlot, 0.0.1-pre10\"\n",
        "#r \"nuget: IPlot.Interactive, 0.0.1-pre10\""
      ],
      "outputs": [
        {
          "output_type": "execute_result",
          "data": {
            "text/html": "<div><strong>Restore sources</strong><ul><li><span> C:/Users/Installer/Documents/Source/Repos/IPlot/pkg</span></li></ul></div>"
          },
          "execution_count": 1,
          "metadata": {}
        }
      ]
    },
    {
      "cell_type": "code",
      "execution_count": 1,
      "metadata": {
        "dotnet_interactive": {
          "language": "fsharp"
        }
      },
      "source": [
        "open IPlot.Plotly\n",
        "\n",
        "let t = [DateTime(2020,4,1);DateTime(2020,5,1);DateTime(2020,6,1)]\n",
        "let a = [1.2;3.1;6.4]\n",
        "\n",
        "a\n",
        "|> Chart.Line"
      ],
      "outputs": [
        {
          "output_type": "execute_result",
          "data": {
            "text/html": "<div id=\"cf72a1c7-261c-47a1-b734-ab4e31e56e11\" style=\"width: 900px; height: 500px;\"></div><script type=\"text/javascript\">\r\n\r\nvar renderPlotly = function() {\r\n    var iplotRequire = require.config({context:'iplot-0.0.1-pre9',paths:{plotly:'https://cdn.plot.ly/plotly-1.49.2.min'}}) || require;\r\n    iplotRequire(['plotly'], function(Plotly) { \r\n\r\n            var data = [{\"y\":[1.2,3.1,6.4],\"type\":\"scatter\"}];\r\n           var layout = {\"width\":900.0,\"height\":500.0};\r\n        Plotly.newPlot('cf72a1c7-261c-47a1-b734-ab4e31e56e11', data, layout);\r\n        \r\n});\r\n};\r\n// ensure `require` is available globally\r\nif ((typeof(require) !==  typeof(Function)) || (typeof(require.config) !== typeof(Function))) {\r\n    let require_script = document.createElement('script');\r\n    require_script.setAttribute('src', 'https://cdnjs.cloudflare.com/ajax/libs/require.js/2.3.6/require.min.js');\r\n    require_script.setAttribute('type', 'text/javascript');\r\n    \r\n    \r\n    require_script.onload = function() {\r\n        renderPlotly();\r\n    };\r\n\r\n    document.getElementsByTagName('head')[0].appendChild(require_script);\r\n}\r\nelse {\r\n    renderPlotly();\r\n}\r\n\r\n"
          },
          "execution_count": 1,
          "metadata": {}
        }
      ]
    },
    {
      "cell_type": "code",
      "execution_count": 1,
      "metadata": {
        "dotnet_interactive": {
          "language": "fsharp"
        }
      },
      "source": [
        "open IPlot.HighCharts\n",
        "\n",
        "let t = [DateTime(2020,4,1);DateTime(2020,5,1);DateTime(2020,6,1)]\n",
        "let a = [1.2;3.1;0.4]\n",
        "\n",
        "a\n",
        "|> Chart.Line"
      ],
      "outputs": [
        {
          "output_type": "execute_result",
          "data": {
            "text/html": "<div id=\"decb307c-15b2-44c8-9d3d-3ad483631315\" style=\"width: 900px; height: 500px; background-color: #111;\"></div><script type=\"text/javascript\">\r\n\r\nvar renderHighCharts = function() {\r\n    var iplotRequire = require.config({context:'iplot-0.0.1-pre9',packages:[{name:'highcharts',main:'highcharts'}],paths:{highcharts:'https://code.highcharts.com'}}) || require;\r\n    iplotRequire(['highcharts','highcharts/modules/exporting','highcharts/modules/accessibility'], function(Highcharts) { \r\n\r\n            Highcharts.theme = {\r\n                colors: ['#DDDF0C', '#54BF3A', '#EC272A', '#41D8FE', '#5B47D1',\r\n                    '#5B47D1', '#E978FC', '#C51F8D', '#DCDCDC'],\r\n                chart: {\r\n                    backgroundColor: 'rgba(17, 17, 17, .01)',\r\n                    borderColor: '#222',\r\n                    className: 'dark-container',\r\n                    plotBackgroundColor: 'rgba(255, 255, 255, .1)',\r\n                    plotBorderColor: '#A0A0A0',\r\n                    plotBorderWidth: 1\r\n                },\r\n                title: {\r\n                    style: {\r\n                        color: '#C0C0C0'\r\n                    }\r\n                },\r\n                subtitle: {\r\n                    style: {\r\n                        color: '#666'\r\n                    }\r\n                },\r\n                xAxis: {\r\n                    gridLineColor: '#444',\r\n                    gridLineWidth: 1,\r\n                    labels: {\r\n                        style: {\r\n                            color: '#A0A0A0'\r\n                        }\r\n                    },\r\n                    lineColor: '#A0A0A0',\r\n                    tickColor: '#A0A0A0',\r\n                    title: {\r\n                        style: {\r\n                            color: '#CCC'\r\n                        }\r\n                    }\r\n                },\r\n                yAxis: {\r\n                    gridLineColor: '#444',\r\n                    labels: {\r\n                        style: {\r\n                            color: '#A0A0A0'\r\n                        }\r\n                    },\r\n                    lineColor: '#A0A0A0',\r\n                    minorTickInterval: null,\r\n                    tickColor: '#A0A0A0',\r\n                    tickWidth: 1,\r\n                    title: {\r\n                        style: {\r\n                            color: '#CCC'\r\n                        }\r\n                    }\r\n                },\r\n                tooltip: {\r\n                    backgroundColor: 'rgba(0, 0, 0, 0.75)',\r\n                    style: {\r\n                        color: '#F0F0F0'\r\n                    }\r\n                },\r\n                toolbar: {\r\n                    itemStyle: {\r\n                        color: 'silver'\r\n                    }\r\n                },\r\n                plotOptions: {\r\n                    line: {\r\n                        dataLabels: {\r\n                            color: '#CCC'\r\n                        },\r\n                        marker: {\r\n                            lineColor: '#333'\r\n                        }\r\n                    }\r\n                },\r\n                legend: {\r\n                    backgroundColor: 'rgba(0, 0, 0, 0.3)',\r\n                    itemStyle: {\r\n                        color: '#A0A0A0'\r\n                    },\r\n                    itemHoverStyle: {\r\n                        color: '#FFF'\r\n                    },\r\n                    itemHiddenStyle: {\r\n                        color: '#444'\r\n                    },\r\n                    title: {\r\n                        style: {\r\n                            color: '#C0C0C0'\r\n                        }\r\n                    }\r\n                },\r\n                credits: {\r\n                    style: {\r\n                        color: '#666'\r\n                    }\r\n                },\r\n                labels: {\r\n                    style: {\r\n                        color: '#CCC'\r\n                    }\r\n                },\r\n                navigation: {\r\n                    buttonOptions: {\r\n                        symbolStroke: '#DDDDDD',\r\n                        theme: {\r\n                            fill: {\r\n                                linearGradient: { x1: 0, y1: 0, x2: 0, y2: 1 },\r\n                                stops: [\r\n                                    [0.4, '#606060'],\r\n                                    [0.6, '#333333']\r\n                                ]\r\n                            },\r\n                            stroke: '#000000'\r\n                        },\r\n                        align: 'left'\r\n                    }\r\n                },\r\n                // scroll charts\r\n                rangeSelector: {\r\n                    buttonTheme: {\r\n                        fill: {\r\n                            linearGradient: { x1: 0, y1: 0, x2: 0, y2: 1 },\r\n                            stops: [\r\n                                [0.4, '#888'],\r\n                                [0.6, '#555']\r\n                            ]\r\n                        },\r\n                        stroke: '#000000',\r\n                        style: {\r\n                            color: '#CCC',\r\n                            fontWeight: 'bold'\r\n                        },\r\n                        states: {\r\n                            hover: {\r\n                                fill: {\r\n                                    linearGradient: { x1: 0, y1: 0, x2: 0, y2: 1 },\r\n                                    stops: [\r\n                                        [0.4, '#BBB'],\r\n                                        [0.6, '#888']\r\n                                    ]\r\n                                },\r\n                                stroke: '#000000',\r\n                                style: {\r\n                                    color: 'white'\r\n                                }\r\n                            },\r\n                            select: {\r\n                                fill: {\r\n                                    linearGradient: { x1: 0, y1: 0, x2: 0, y2: 1 },\r\n                                    stops: [\r\n                                        [0.1, '#000'],\r\n                                        [0.3, '#333']\r\n                                    ]\r\n                                },\r\n                                stroke: '#000000',\r\n                                style: {\r\n                                    color: 'yellow'\r\n                                }\r\n                            }\r\n                        }\r\n                    },\r\n                    inputStyle: {\r\n                        backgroundColor: '#333',\r\n                        color: 'silver'\r\n                    },\r\n                    labelStyle: {\r\n                        color: 'silver'\r\n                    }\r\n                },\r\n                navigator: {\r\n                    handles: {\r\n                        backgroundColor: '#666',\r\n                        borderColor: '#AAA'\r\n                    },\r\n                    outlineColor: '#CCC',\r\n                    maskFill: 'rgba(16, 16, 16, 0.5)',\r\n                    series: {\r\n                        color: '#7798BF',\r\n                        lineColor: '#A6C7ED'\r\n                    }\r\n                },\r\n                scrollbar: {\r\n                    barBackgroundColor: {\r\n                        linearGradient: { x1: 0, y1: 0, x2: 0, y2: 1 },\r\n                        stops: [\r\n                            [0.4, '#888'],\r\n                            [0.6, '#555']\r\n                        ]\r\n                    },\r\n                    barBorderColor: '#CCC',\r\n                    buttonArrowColor: '#CCC',\r\n                    buttonBackgroundColor: {\r\n                        linearGradient: { x1: 0, y1: 0, x2: 0, y2: 1 },\r\n                        stops: [\r\n                            [0.4, '#888'],\r\n                            [0.6, '#555']\r\n                        ]\r\n                    },\r\n                    buttonBorderColor: '#CCC',\r\n                    rifleColor: '#FFF',\r\n                    trackBackgroundColor: {\r\n                        linearGradient: { x1: 0, y1: 0, x2: 0, y2: 1 },\r\n                        stops: [\r\n                            [0, '#000'],\r\n                            [1, '#333']\r\n                        ]\r\n                    },\r\n                    trackBorderColor: '#666'\r\n                }\r\n            };\r\n            \r\n            Highcharts.setOptions(Highcharts.theme);\r\n            Highcharts.chart('decb307c-15b2-44c8-9d3d-3ad483631315', {\"chart\":{\"height\":500.0,\"width\":900.0},\"series\":[{\"marker\":{\"enabled\":false},\"type\":\"line\",\"index\":0.0,\"data\":[1.2,3.1,0.4],\"legendIndex\":0.0,\"stack\":0.0,\"xAxis\":0.0,\"yAxis\":0.0,\"zIndex\":0.0}],\"title\":{\"text\":\"\"}});\r\n        \r\n});\r\n};\r\n// ensure `require` is available globally\r\nif ((typeof(require) !==  typeof(Function)) || (typeof(require.config) !== typeof(Function))) {\r\n    let require_script = document.createElement('script');\r\n    require_script.setAttribute('src', 'https://cdnjs.cloudflare.com/ajax/libs/require.js/2.3.6/require.min.js');\r\n    require_script.setAttribute('type', 'text/javascript');\r\n    \r\n    \r\n    require_script.onload = function() {\r\n        renderHighCharts();\r\n    };\r\n\r\n    document.getElementsByTagName('head')[0].appendChild(require_script);\r\n}\r\nelse {\r\n    renderHighCharts();\r\n}\r\n\r\n"
          },
          "execution_count": 1,
          "metadata": {}
        }
      ]
    },
    {
      "cell_type": "code",
      "execution_count": 1,
      "metadata": {
        "dotnet_interactive": {
          "language": "fsharp"
        }
      },
      "source": [
        ""
      ],
      "outputs": []
    }
  ],
  "metadata": {
    "kernelspec": {
      "display_name": ".NET (C#)",
      "language": "C#",
      "name": ".net-csharp"
    },
    "language_info": {
      "file_extension": ".cs",
      "mimetype": "text/x-csharp",
      "name": "C#",
      "pygments_lexer": "csharp",
      "version": "8.0"
    }
  },
  "nbformat": 4,
  "nbformat_minor": 4
}