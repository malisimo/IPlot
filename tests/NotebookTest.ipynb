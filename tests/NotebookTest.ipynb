{
  "cells": [
    {
      "cell_type": "markdown",
      "metadata": {},
      "source": [
        "# Notebook Tests\n",
        "\n",
        "Simple interactive notebook examples showing use of Plotly and HighCharts rendered inline.\n",
        "\n",
        "> Note: this notebook requires the [.NET Interactive](https://github.com/dotnet/interactive) runtime installed."
      ]
    },
    {
      "cell_type": "code",
      "execution_count": 1,
      "metadata": {
        "dotnet_interactive": {
          "language": "fsharp"
        }
      },
      "source": [
        "//#i \"nuget: <REPO_ROOT_DIR>/pkg\" // Uncomment this line for local testing\n",
        "#r \"nuget: IPlot, 0.0.1-pre10\"\n",
        "#r \"nuget: IPlot.Interactive, 0.0.1-pre10\""
      ],
      "outputs": []
    },
    {
      "cell_type": "code",
      "execution_count": 1,
      "metadata": {
        "dotnet_interactive": {
          "language": "fsharp"
        }
      },
      "source": [
        "open IPlot.Plotly\n",
        "\n",
        "let t = [DateTime(2020,4,1);DateTime(2020,5,1);DateTime(2020,6,1)]\n",
        "let a = [1.2;3.1;6.4]\n",
        "\n",
        "a\n",
        "|> Chart.Line"
      ],
      "outputs": []
    },
    {
      "cell_type": "code",
      "execution_count": 1,
      "metadata": {
        "dotnet_interactive": {
          "language": "fsharp"
        }
      },
      "source": [
        "open IPlot.HighCharts\n",
        "\n",
        "let t = [DateTime(2020,4,1);DateTime(2020,5,1);DateTime(2020,6,1)]\n",
        "let a = [1.2;3.1;0.4]\n",
        "\n",
        "a\n",
        "|> Chart.Line"
      ],
      "outputs": []
    }
  ],
  "metadata": {
    "kernelspec": {
      "display_name": ".NET (C#)",
      "language": "C#",
      "name": ".net-csharp"
    },
    "language_info": {
      "file_extension": ".cs",
      "mimetype": "text/x-csharp",
      "name": "C#",
      "pygments_lexer": "csharp",
      "version": "8.0"
    }
  },
  "nbformat": 4,
  "nbformat_minor": 4
}