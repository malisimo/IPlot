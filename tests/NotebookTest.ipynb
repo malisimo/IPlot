{
  "cells": [
    {
      "cell_type": "markdown",
      "metadata": {},
      "source": [
        "# Notebook Tests\n",
        "\n",
        "Simple interactive notebook examples showing use of Plotly and HighCharts rendered inline.\n",
        "\n",
        "> Note: this notebook requires the [.NET Interactive](https://github.com/dotnet/interactive) runtime installed."
      ]
    },
    {
      "cell_type": "code",
      "execution_count": 1,
      "metadata": {
        "dotnet_interactive": {
          "language": "fsharp"
        }
      },
      "source": [
        "//#i \"nuget: <REPO_ROOT_DIR>/pkg\" // Uncomment this line for local testing\n",
        "#r \"nuget: IPlot, 0.0.1\"\n",
        "#r \"nuget: IPlot.Interactive, 0.0.1\""
      ],
      "outputs": []
    },
    {
      "cell_type": "code",
      "execution_count": 1,
      "metadata": {
        "dotnet_interactive": {
          "language": "fsharp"
        }
      },
      "source": [
        "open IPlot.Plotly\n",
        "let xs = [ -20f..20f ]\n",
        "let ys = [ for x in xs do x ** 2f ]\n",
        "\n",
        "(xs, ys)\n",
        "||> List.zip\n",
        "|> Chart.Scatter"
      ],
      "outputs": []
    },
    {
      "cell_type": "code",
      "execution_count": 1,
      "metadata": {
        "dotnet_interactive": {
          "language": "fsharp"
        }
      },
      "source": [
        "open IPlot.HighCharts\n",
        "\n",
        "[1.2;3.1;0.4]\n",
        "|> Chart.Line"
      ],
      "outputs": []
    }
  ],
  "metadata": {
    "kernelspec": {
      "display_name": ".NET (C#)",
      "language": "C#",
      "name": ".net-csharp"
    },
    "language_info": {
      "file_extension": ".cs",
      "mimetype": "text/x-csharp",
      "name": "C#",
      "pygments_lexer": "csharp",
      "version": "8.0"
    }
  },
  "nbformat": 4,
  "nbformat_minor": 4
}